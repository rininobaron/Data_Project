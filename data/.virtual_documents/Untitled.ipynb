import pandas as pd


!ls


pd.read_csv('position.csv')


pd.read_csv('data2/position.csv')



